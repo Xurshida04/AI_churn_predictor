{
 "cells": [
  {
   "cell_type": "code",
   "execution_count": 1,
   "id": "5f9d7864",
   "metadata": {},
   "outputs": [],
   "source": [
    "import pandas as pd\n",
    "df = pd.read_csv('data.csv')\n",
    "\n",
    "df = df.drop(['customerID'], axis=1)\n",
    "df = df.drop(['gender'], axis=1)\n",
    "\n",
    "\n",
    "\n",
    "df['MonthlyCharges'] = df['MonthlyCharges'].replace('??', 'NaN')\n",
    "\n",
    "df['MonthlyCharges'] = df['MonthlyCharges'].astype('float')\n",
    "\n",
    "df['TotalCharges'] = df['TotalCharges'].replace('??', 'NaN')\n",
    "df['TotalCharges'] = df['TotalCharges'].replace(' ', 'NaN')\n",
    "\n",
    "df['TotalCharges'] = df['TotalCharges'].astype('float')\n",
    "\n",
    "df['tenure'] = df['tenure'].replace(-1.0, 1.0)\n",
    "df['tenure'] = df['tenure'].fillna(1.0)\n",
    "\n",
    "fiber_mode = df[df['InternetService'] == 'Fiber optic']['MonthlyCharges'].mean()\n",
    "dsl_mode = df[df['InternetService'] == 'DSL']['MonthlyCharges'].mean()\n",
    "no_mode = df[df['InternetService'] == 'No']['MonthlyCharges'].mean()\n",
    "\n",
    "# 2. Shartli ravishda to‘ldiramiz\n",
    "df.loc[(df['InternetService'] == 'Fiber optic') & (df['MonthlyCharges'].isna()), 'MonthlyCharges'] = fiber_mode\n",
    "df.loc[(df['InternetService'] == 'DSL') & (df['MonthlyCharges'].isna()), 'MonthlyCharges'] = dsl_mode\n",
    "df.loc[(df['InternetService'] == 'No') & (df['MonthlyCharges'].isna()), 'MonthlyCharges'] = no_mode\n",
    "\n",
    "# Avval TotalCharges ustunini tozalaymiz\n",
    "df['TotalCharges'] = pd.to_numeric(df['TotalCharges'], errors='coerce')\n",
    "\n",
    "# Anormal yoki bo‘sh qiymatlar o‘rniga qayta hisoblaymiz\n",
    "mask = (df['TotalCharges'].isna()) | (df['TotalCharges'] > df['MonthlyCharges'] * df['tenure'] * 2)\n",
    "\n",
    "df.loc[mask, 'TotalCharges'] = df.loc[mask, 'MonthlyCharges'] * df.loc[mask, 'tenure']\n",
    "df.to_csv('new_dataset2.csv', index=False)\n"
   ]
  },
  {
   "cell_type": "code",
   "execution_count": 14,
   "id": "29344738",
   "metadata": {},
   "outputs": [
    {
     "name": "stdout",
     "output_type": "stream",
     "text": [
      "<class 'pandas.core.frame.DataFrame'>\n",
      "RangeIndex: 7043 entries, 0 to 7042\n",
      "Data columns (total 19 columns):\n",
      " #   Column            Non-Null Count  Dtype  \n",
      "---  ------            --------------  -----  \n",
      " 0   SeniorCitizen     7043 non-null   int64  \n",
      " 1   Partner           7043 non-null   object \n",
      " 2   Dependents        7043 non-null   object \n",
      " 3   tenure            7043 non-null   float64\n",
      " 4   PhoneService      7043 non-null   object \n",
      " 5   MultipleLines     7043 non-null   object \n",
      " 6   InternetService   7043 non-null   object \n",
      " 7   OnlineSecurity    7043 non-null   object \n",
      " 8   OnlineBackup      7043 non-null   object \n",
      " 9   DeviceProtection  7043 non-null   object \n",
      " 10  TechSupport       7043 non-null   object \n",
      " 11  StreamingTV       7043 non-null   object \n",
      " 12  StreamingMovies   7043 non-null   object \n",
      " 13  Contract          7043 non-null   object \n",
      " 14  PaperlessBilling  7043 non-null   object \n",
      " 15  PaymentMethod     7043 non-null   object \n",
      " 16  MonthlyCharges    7043 non-null   float64\n",
      " 17  TotalCharges      7043 non-null   float64\n",
      " 18  Churn             7043 non-null   object \n",
      "dtypes: float64(3), int64(1), object(15)\n",
      "memory usage: 1.0+ MB\n"
     ]
    }
   ],
   "source": [
    "df.info()"
   ]
  },
  {
   "cell_type": "code",
   "execution_count": null,
   "id": "c88b7770",
   "metadata": {},
   "outputs": [],
   "source": []
  }
 ],
 "metadata": {
  "kernelspec": {
   "display_name": "base",
   "language": "python",
   "name": "python3"
  },
  "language_info": {
   "codemirror_mode": {
    "name": "ipython",
    "version": 3
   },
   "file_extension": ".py",
   "mimetype": "text/x-python",
   "name": "python",
   "nbconvert_exporter": "python",
   "pygments_lexer": "ipython3",
   "version": "3.11.5"
  }
 },
 "nbformat": 4,
 "nbformat_minor": 5
}
